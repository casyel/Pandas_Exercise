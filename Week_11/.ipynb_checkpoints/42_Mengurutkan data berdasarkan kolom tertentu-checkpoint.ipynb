{
 "cells": [
  {
   "cell_type": "markdown",
   "id": "5ffe6549",
   "metadata": {},
   "source": [
    "# 42: Mengurutkan data berdasarkan kolom tertentu"
   ]
  },
  {
   "cell_type": "markdown",
   "id": "aac1612b",
   "metadata": {},
   "source": [
    "Import Modules"
   ]
  },
  {
   "cell_type": "code",
   "execution_count": null,
   "id": "7ffb76c1",
   "metadata": {},
   "outputs": [],
   "source": [
    "import pandas as pd\n",
    "\n",
    "print(pd.__version__)"
   ]
  },
  {
   "cell_type": "markdown",
   "id": "37414e00",
   "metadata": {},
   "source": [
    "Persiapan Data Frame"
   ]
  },
  {
   "cell_type": "code",
   "execution_count": null,
   "id": "d86846a1",
   "metadata": {},
   "outputs": [],
   "source": [
    "df = pd.read_csv('./data/titanicfull.csv')\n",
    "df.head()"
   ]
  },
  {
   "cell_type": "markdown",
   "id": "6f345b8a",
   "metadata": {},
   "source": [
    "Mengurutkan data berdasarkan kolom tertentu"
   ]
  },
  {
   "cell_type": "code",
   "execution_count": null,
   "id": "745c72c0",
   "metadata": {},
   "outputs": [],
   "source": [
    "df.sort_values('age').head()"
   ]
  },
  {
   "cell_type": "code",
   "execution_count": null,
   "id": "6e763ebc",
   "metadata": {},
   "outputs": [],
   "source": [
    "df.sort_values('age', ascending=False).head()"
   ]
  },
  {
   "cell_type": "code",
   "execution_count": null,
   "id": "b2580ff8",
   "metadata": {},
   "outputs": [],
   "source": [
    "df.sort_values(['survived', 'age']).head()"
   ]
  }
 ],
 "metadata": {
  "celltoolbar": "Slideshow",
  "kernelspec": {
   "display_name": "Python 3 (ipykernel)",
   "language": "python",
   "name": "python3"
  },
  "language_info": {
   "codemirror_mode": {
    "name": "ipython",
    "version": 3
   },
   "file_extension": ".py",
   "mimetype": "text/x-python",
   "name": "python",
   "nbconvert_exporter": "python",
   "pygments_lexer": "ipython3",
   "version": "3.11.5"
  }
 },
 "nbformat": 4,
 "nbformat_minor": 5
}
