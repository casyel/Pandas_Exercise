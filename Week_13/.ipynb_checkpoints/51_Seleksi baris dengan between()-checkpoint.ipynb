{
 "cells": [
  {
   "cell_type": "markdown",
   "id": "0176622c",
   "metadata": {},
   "source": [
    "# 51: Seleksi baris dengan between()"
   ]
  },
  {
   "cell_type": "markdown",
   "id": "4d8d95fb",
   "metadata": {},
   "source": [
    "Import Modules"
   ]
  },
  {
   "cell_type": "code",
   "execution_count": null,
   "id": "59042f72",
   "metadata": {},
   "outputs": [],
   "source": [
    "import pandas as pd\n",
    "import numpy as np\n",
    "\n",
    "print(pd.__version__)\n",
    "print(np.__version__)"
   ]
  },
  {
   "cell_type": "markdown",
   "id": "426c5d6a",
   "metadata": {},
   "source": [
    "Persiapan Data Frame"
   ]
  },
  {
   "cell_type": "code",
   "execution_count": null,
   "id": "3cdb6155",
   "metadata": {},
   "outputs": [],
   "source": [
    "n_rows = 10\n",
    "n_cols = 5\n",
    "cols = tuple('ABCDE')\n",
    "\n",
    "df = pd.DataFrame(np.random.randint(1, 10, size=(n_rows, n_cols)), \n",
    "                  columns=cols)\n",
    "df"
   ]
  },
  {
   "cell_type": "markdown",
   "id": "ec38a75a",
   "metadata": {},
   "source": [
    "Seleksi baris dengan between()"
   ]
  },
  {
   "cell_type": "code",
   "execution_count": null,
   "id": "b8123425",
   "metadata": {},
   "outputs": [],
   "source": [
    "df[df['A'].between(2, 5)]"
   ]
  },
  {
   "cell_type": "code",
   "execution_count": null,
   "id": "af10903f",
   "metadata": {},
   "outputs": [],
   "source": [
    "df[df['A'].between(2, 5, inclusive=False)]"
   ]
  }
 ],
 "metadata": {
  "celltoolbar": "Slideshow",
  "kernelspec": {
   "display_name": "Python 3 (ipykernel)",
   "language": "python",
   "name": "python3"
  },
  "language_info": {
   "codemirror_mode": {
    "name": "ipython",
    "version": 3
   },
   "file_extension": ".py",
   "mimetype": "text/x-python",
   "name": "python",
   "nbconvert_exporter": "python",
   "pygments_lexer": "ipython3",
   "version": "3.11.5"
  }
 },
 "nbformat": 4,
 "nbformat_minor": 5
}
