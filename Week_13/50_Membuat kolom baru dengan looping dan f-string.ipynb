{
 "cells": [
  {
   "cell_type": "markdown",
   "id": "4ff3fd5a",
   "metadata": {},
   "source": [
    "# 50: Membuat kolom baru dengan looping dan f-string"
   ]
  },
  {
   "cell_type": "markdown",
   "id": "21fa6690",
   "metadata": {},
   "source": [
    "Import Modules"
   ]
  },
  {
   "cell_type": "code",
   "execution_count": null,
   "id": "be1e2cb6",
   "metadata": {},
   "outputs": [],
   "source": [
    "import pandas as pd\n",
    "\n",
    "print(pd.__version__)"
   ]
  },
  {
   "cell_type": "markdown",
   "id": "b357ab55",
   "metadata": {},
   "source": [
    "Persiapan Data Frame"
   ]
  },
  {
   "cell_type": "code",
   "execution_count": null,
   "id": "5dc56dd6",
   "metadata": {},
   "outputs": [],
   "source": [
    "d = {'penjual':['bejo', 'tejo', 'wati', 'bejo', 'cecep', 'tejo', 'wati', 'bejo'], \n",
    "     'barang':['monitor', 'monitor', 'keyboard', 'mouse', 'keyboard', 'monitor', 'laptop', 'monitor']}\n",
    "\n",
    "df = pd.DataFrame(d)\n",
    "df"
   ]
  },
  {
   "cell_type": "code",
   "execution_count": null,
   "id": "1995880b",
   "metadata": {},
   "outputs": [],
   "source": [
    "Membuat kolom baru dengan for loop dan f-string"
   ]
  },
  {
   "cell_type": "code",
   "execution_count": null,
   "id": "f8d39dc2",
   "metadata": {},
   "outputs": [],
   "source": [
    "cols = ['penjual', 'barang']\n",
    "\n",
    "for col in cols:\n",
    "    df[f'count_tiap_{col}'] =  df.groupby(col).cumcount() + 1\n",
    "    \n",
    "df"
   ]
  }
 ],
 "metadata": {
  "celltoolbar": "Slideshow",
  "kernelspec": {
   "display_name": "Python 3 (ipykernel)",
   "language": "python",
   "name": "python3"
  },
  "language_info": {
   "codemirror_mode": {
    "name": "ipython",
    "version": 3
   },
   "file_extension": ".py",
   "mimetype": "text/x-python",
   "name": "python",
   "nbconvert_exporter": "python",
   "pygments_lexer": "ipython3",
   "version": "3.11.5"
  }
 },
 "nbformat": 4,
 "nbformat_minor": 5
}
