{
 "cells": [
  {
   "cell_type": "markdown",
   "id": "e799b0fe",
   "metadata": {},
   "source": [
    "# 53: Membuat kategori baru berdasarkan threshold (ambang batas)"
   ]
  },
  {
   "cell_type": "markdown",
   "id": "77e29329",
   "metadata": {},
   "source": [
    "Import Modules"
   ]
  },
  {
   "cell_type": "code",
   "execution_count": null,
   "id": "696ce842",
   "metadata": {},
   "outputs": [],
   "source": [
    "import pandas as pd\n",
    "\n",
    "print(pd.__version__)"
   ]
  },
  {
   "cell_type": "markdown",
   "id": "417fd156",
   "metadata": {},
   "source": [
    "Persiapan Data Frame"
   ]
  },
  {
   "cell_type": "code",
   "execution_count": null,
   "id": "7488b198",
   "metadata": {},
   "outputs": [],
   "source": [
    "d = {'hobi':['jogging', 'mancing', 'renang',\n",
    "             'mancing', 'mancing', 'baca', \n",
    "             'baca', 'mancing', 'fotograsi', \n",
    "             'mancing', 'camping']}\n",
    "\n",
    "df = pd.DataFrame(d)\n",
    "df"
   ]
  },
  {
   "cell_type": "markdown",
   "id": "20954f5b",
   "metadata": {},
   "source": [
    "Membuat kategori baru berdasarkan threshold (ambang batas)"
   ]
  },
  {
   "cell_type": "code",
   "execution_count": null,
   "id": "da9ad364",
   "metadata": {},
   "outputs": [],
   "source": [
    "df['hobi'].value_counts()"
   ]
  },
  {
   "cell_type": "code",
   "execution_count": null,
   "id": "047caaac",
   "metadata": {},
   "outputs": [],
   "source": [
    "persentase = df['hobi'].value_counts(normalize=True)\n",
    "persentase"
   ]
  },
  {
   "cell_type": "code",
   "execution_count": null,
   "id": "ccb8a7f3",
   "metadata": {},
   "outputs": [],
   "source": [
    "threshold = 0.1\n",
    "hobi_lain = persentase[persentase < threshold].index\n",
    "hobi_lain"
   ]
  },
  {
   "cell_type": "code",
   "execution_count": null,
   "id": "44d0b33b",
   "metadata": {},
   "outputs": [],
   "source": [
    "df['hobi'] = df['hobi'].replace(hobi_lain, 'lainnya')\n",
    "df['hobi']"
   ]
  },
  {
   "cell_type": "code",
   "execution_count": null,
   "id": "62a5bf59",
   "metadata": {},
   "outputs": [],
   "source": [
    "df['hobi'].value_counts(normalize=True)"
   ]
  }
 ],
 "metadata": {
  "kernelspec": {
   "display_name": "Python 3 (ipykernel)",
   "language": "python",
   "name": "python3"
  },
  "language_info": {
   "codemirror_mode": {
    "name": "ipython",
    "version": 3
   },
   "file_extension": ".py",
   "mimetype": "text/x-python",
   "name": "python",
   "nbconvert_exporter": "python",
   "pygments_lexer": "ipython3",
   "version": "3.11.5"
  }
 },
 "nbformat": 4,
 "nbformat_minor": 5
}
