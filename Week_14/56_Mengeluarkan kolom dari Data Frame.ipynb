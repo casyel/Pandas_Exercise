{
 "cells": [
  {
   "cell_type": "markdown",
   "id": "d4854484",
   "metadata": {},
   "source": [
    "# 56: Mengeluarkan kolom dari Data Frame"
   ]
  },
  {
   "cell_type": "markdown",
   "id": "668fe6ce",
   "metadata": {},
   "source": [
    "Import Modules"
   ]
  },
  {
   "cell_type": "code",
   "execution_count": null,
   "id": "e07b82a0",
   "metadata": {},
   "outputs": [],
   "source": [
    "import pandas as pd\n",
    "\n",
    "print(pd.__version__)"
   ]
  },
  {
   "cell_type": "markdown",
   "id": "cb5146fc",
   "metadata": {},
   "source": [
    "Persiapan Data Frame"
   ]
  },
  {
   "cell_type": "code",
   "execution_count": null,
   "id": "91ea40e3",
   "metadata": {},
   "outputs": [],
   "source": [
    "data = {'nama': ['bayu', 'indra', 'devi', 'agni'],\n",
    "       'jenis_kelamin': ['L', 'L', 'P', 'L'],\n",
    "       'usia': [23, 21, 22, 25]}\n",
    "\n",
    "df = pd.DataFrame(data)\n",
    "df\n"
   ]
  },
  {
   "cell_type": "markdown",
   "id": "6616fe43",
   "metadata": {},
   "source": [
    "Mengeluarkan kolom dari Data Frame"
   ]
  },
  {
   "cell_type": "code",
   "execution_count": null,
   "id": "aa2e303d",
   "metadata": {},
   "outputs": [],
   "source": [
    "usia = df.pop('usia').to_frame()"
   ]
  },
  {
   "cell_type": "code",
   "execution_count": null,
   "id": "05c06959",
   "metadata": {},
   "outputs": [],
   "source": [
    "df"
   ]
  },
  {
   "cell_type": "code",
   "execution_count": null,
   "id": "d01dde4c",
   "metadata": {},
   "outputs": [],
   "source": [
    "usia"
   ]
  }
 ],
 "metadata": {
  "celltoolbar": "Slideshow",
  "kernelspec": {
   "display_name": "Python 3 (ipykernel)",
   "language": "python",
   "name": "python3"
  },
  "language_info": {
   "codemirror_mode": {
    "name": "ipython",
    "version": 3
   },
   "file_extension": ".py",
   "mimetype": "text/x-python",
   "name": "python",
   "nbconvert_exporter": "python",
   "pygments_lexer": "ipython3",
   "version": "3.11.5"
  }
 },
 "nbformat": 4,
 "nbformat_minor": 5
}
