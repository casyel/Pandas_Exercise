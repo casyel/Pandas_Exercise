{
 "cells": [
  {
   "cell_type": "markdown",
   "id": "155a986a",
   "metadata": {
    "slideshow": {
     "slide_type": "slide"
    }
   },
   "source": [
    "# 10: Mengganti nama (label) kolom pada Data Frame berdasarkan pola"
   ]
  },
  {
   "cell_type": "markdown",
   "id": "2de76a1d",
   "metadata": {
    "slideshow": {
     "slide_type": "subslide"
    }
   },
   "source": [
    "2273033 - Casyel Bersheba Limpele"
   ]
  },
  {
   "cell_type": "markdown",
   "id": "f1bb9fa1",
   "metadata": {
    "slideshow": {
     "slide_type": "subslide"
    }
   },
   "source": [
    "Import Modules"
   ]
  },
  {
   "cell_type": "code",
   "execution_count": 1,
   "id": "56627146",
   "metadata": {},
   "outputs": [
    {
     "name": "stdout",
     "output_type": "stream",
     "text": [
      "2.0.3\n"
     ]
    }
   ],
   "source": [
    "import pandas as pd\n",
    "\n",
    "print(pd.__version__)"
   ]
  },
  {
   "cell_type": "markdown",
   "id": "b96cefdc",
   "metadata": {
    "slideshow": {
     "slide_type": "subslide"
    }
   },
   "source": [
    "Persiapan Data Frame"
   ]
  },
  {
   "cell_type": "code",
   "execution_count": null,
   "id": "ab337c04",
   "metadata": {},
   "outputs": [],
   "source": [
    "df = pd.read_csv('./data/titanicfull.csv')\n",
    "df.columns = ['Pclass', 'Survival status', 'full Name', 'Sex  ', '  Age', \n",
    "              'Sib SP', 'Parch', 'Ticket', 'Fare', 'Cabin', 'Embarked']\n",
    "df_backup = df.copy(deep=True)\n",
    "\n",
    "df.head()"
   ]
  },
  {
   "cell_type": "markdown",
   "id": "2f05025c",
   "metadata": {
    "slideshow": {
     "slide_type": "subslide"
    }
   },
   "source": [
    "Menggunakan lowercase untuk nama kolom dan mengganti spasi dengan _"
   ]
  },
  {
   "cell_type": "code",
   "execution_count": null,
   "id": "dfa52b2f",
   "metadata": {},
   "outputs": [],
   "source": [
    "df.columns = df.columns.str.replace(' ', '_').str.lower()\n",
    "df.head()"
   ]
  },
  {
   "cell_type": "markdown",
   "id": "7160fcae",
   "metadata": {
    "slideshow": {
     "slide_type": "subslide"
    }
   },
   "source": [
    "Memangkas kelebihan spasi pada nama kolom"
   ]
  },
  {
   "cell_type": "code",
   "execution_count": null,
   "id": "d726548d",
   "metadata": {},
   "outputs": [],
   "source": [
    "df = df_backup.copy(deep=True)\n",
    "\n",
    "df.columns = df.columns.str.lower().str.strip().str.replace(' ', '_')\n",
    "df.head()"
   ]
  }
 ],
 "metadata": {
  "celltoolbar": "Slideshow",
  "kernelspec": {
   "display_name": "Python 3 (ipykernel)",
   "language": "python",
   "name": "python3"
  },
  "language_info": {
   "codemirror_mode": {
    "name": "ipython",
    "version": 3
   },
   "file_extension": ".py",
   "mimetype": "text/x-python",
   "name": "python",
   "nbconvert_exporter": "python",
   "pygments_lexer": "ipython3",
   "version": "3.11.5"
  }
 },
 "nbformat": 4,
 "nbformat_minor": 5
}
