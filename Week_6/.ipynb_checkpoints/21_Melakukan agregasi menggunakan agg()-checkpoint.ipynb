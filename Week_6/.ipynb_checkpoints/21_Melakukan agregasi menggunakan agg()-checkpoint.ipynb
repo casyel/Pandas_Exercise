{
 "cells": [
  {
   "cell_type": "markdown",
   "id": "6fa5b764",
   "metadata": {
    "slideshow": {
     "slide_type": "slide"
    }
   },
   "source": [
    "# 21: Melakukan agregasi menggunakan agg()"
   ]
  },
  {
   "cell_type": "markdown",
   "id": "59731cff",
   "metadata": {
    "slideshow": {
     "slide_type": "subslide"
    }
   },
   "source": [
    "Import Modules"
   ]
  },
  {
   "cell_type": "code",
   "execution_count": 1,
   "id": "bee12fc6",
   "metadata": {},
   "outputs": [
    {
     "name": "stdout",
     "output_type": "stream",
     "text": [
      "2.0.3\n"
     ]
    }
   ],
   "source": [
    "import pandas as pd\n",
    "\n",
    "print(pd.__version__)"
   ]
  },
  {
   "cell_type": "markdown",
   "id": "78ea1298",
   "metadata": {
    "slideshow": {
     "slide_type": "subslide"
    }
   },
   "source": [
    "Persiapan Data Frame"
   ]
  },
  {
   "cell_type": "code",
   "execution_count": null,
   "id": "4ba23ba2",
   "metadata": {},
   "outputs": [],
   "source": [
    "df = pd.read_csv('./data/Iris.csv')\n",
    "df"
   ]
  },
  {
   "cell_type": "markdown",
   "id": "a4587fc3",
   "metadata": {
    "slideshow": {
     "slide_type": "subslide"
    }
   },
   "source": [
    "Mengenal groupby() dan fungsi agregasi"
   ]
  },
  {
   "cell_type": "code",
   "execution_count": null,
   "id": "887e4c76",
   "metadata": {},
   "outputs": [],
   "source": [
    "df.groupby('Species')['PetalLengthCm'].count().to_frame()"
   ]
  },
  {
   "cell_type": "code",
   "execution_count": null,
   "id": "3966a8fc",
   "metadata": {},
   "outputs": [],
   "source": [
    "df.groupby('Species')['PetalLengthCm'].mean().to_frame()"
   ]
  },
  {
   "cell_type": "code",
   "execution_count": null,
   "id": "9313c0f6",
   "metadata": {},
   "outputs": [],
   "source": [
    "df.groupby('Species')['PetalLengthCm'].median().to_frame()"
   ]
  },
  {
   "cell_type": "markdown",
   "id": "7fd02b53",
   "metadata": {
    "slideshow": {
     "slide_type": "subslide"
    }
   },
   "source": [
    "Agregasi dengan agg()"
   ]
  },
  {
   "cell_type": "code",
   "execution_count": null,
   "id": "7a4aefd7",
   "metadata": {},
   "outputs": [],
   "source": [
    "df.groupby('Species')['PetalLengthCm'].agg(['count', 'mean', 'median'])"
   ]
  },
  {
   "cell_type": "markdown",
   "id": "73e64194",
   "metadata": {
    "slideshow": {
     "slide_type": "subslide"
    }
   },
   "source": [
    "Agregasi dengan describe()"
   ]
  },
  {
   "cell_type": "code",
   "execution_count": null,
   "id": "a388dc5e",
   "metadata": {},
   "outputs": [],
   "source": [
    "df.groupby('Species')['PetalLengthCm'].describe()"
   ]
  }
 ],
 "metadata": {
  "celltoolbar": "Slideshow",
  "kernelspec": {
   "display_name": "Python 3 (ipykernel)",
   "language": "python",
   "name": "python3"
  },
  "language_info": {
   "codemirror_mode": {
    "name": "ipython",
    "version": 3
   },
   "file_extension": ".py",
   "mimetype": "text/x-python",
   "name": "python",
   "nbconvert_exporter": "python",
   "pygments_lexer": "ipython3",
   "version": "3.11.5"
  }
 },
 "nbformat": 4,
 "nbformat_minor": 5
}
