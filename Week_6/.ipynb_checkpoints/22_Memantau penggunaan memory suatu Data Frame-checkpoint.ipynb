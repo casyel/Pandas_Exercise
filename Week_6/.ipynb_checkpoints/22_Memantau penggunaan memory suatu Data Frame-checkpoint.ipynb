{
 "cells": [
  {
   "cell_type": "markdown",
   "id": "4aafbe9f",
   "metadata": {
    "slideshow": {
     "slide_type": "slide"
    }
   },
   "source": [
    "# 22: Memantau penggunaan memory suatu Data Frame"
   ]
  },
  {
   "cell_type": "code",
   "execution_count": null,
   "id": "6522ac8b",
   "metadata": {},
   "outputs": [],
   "source": [
    "2273033 - Casyel Bersheba Limpele"
   ]
  },
  {
   "cell_type": "code",
   "execution_count": null,
   "id": "08c40651",
   "metadata": {},
   "outputs": [],
   "source": [
    "Import Modules"
   ]
  },
  {
   "cell_type": "code",
   "execution_count": null,
   "id": "dd8365d8",
   "metadata": {},
   "outputs": [],
   "source": [
    "import pandas as pd\n",
    "\n",
    "print(pd.__version__)"
   ]
  },
  {
   "cell_type": "markdown",
   "id": "09c79e47",
   "metadata": {
    "slideshow": {
     "slide_type": "subslide"
    }
   },
   "source": [
    "Persiapan Data Frame"
   ]
  },
  {
   "cell_type": "code",
   "execution_count": null,
   "id": "7b9b5b1e",
   "metadata": {},
   "outputs": [],
   "source": [
    "df_titanic = pd.read_csv('./data/titanicfull.csv')\n",
    "df_titanic.head()"
   ]
  },
  {
   "cell_type": "code",
   "execution_count": null,
   "id": "209e5780",
   "metadata": {},
   "outputs": [],
   "source": [
    "df_iris = pd.read_csv('./data/Iris.csv')\n",
    "df_iris.head()"
   ]
  },
  {
   "cell_type": "markdown",
   "id": "0e72ea40",
   "metadata": {
    "slideshow": {
     "slide_type": "subslide"
    }
   },
   "source": [
    "Memantau penggunaan memory suatu Data Frame"
   ]
  },
  {
   "cell_type": "code",
   "execution_count": null,
   "id": "22d7c084",
   "metadata": {},
   "outputs": [],
   "source": [
    "df_titanic.info(memory_usage='deep')"
   ]
  },
  {
   "cell_type": "code",
   "execution_count": null,
   "id": "26fa3b8c",
   "metadata": {},
   "outputs": [],
   "source": [
    "df_iris.info(memory_usage='deep')"
   ]
  },
  {
   "cell_type": "markdown",
   "id": "a370cb5c",
   "metadata": {
    "slideshow": {
     "slide_type": "subslide"
    }
   },
   "source": [
    "Memantau penggunaan memory untuk setiap kolom dari suatu Data Frame"
   ]
  },
  {
   "cell_type": "code",
   "execution_count": null,
   "id": "d55bc21d",
   "metadata": {},
   "outputs": [],
   "source": [
    "df_titanic.memory_usage(deep=True)"
   ]
  },
  {
   "cell_type": "code",
   "execution_count": null,
   "id": "0b630914",
   "metadata": {},
   "outputs": [],
   "source": [
    "df_iris.memory_usage(deep=True)"
   ]
  }
 ],
 "metadata": {
  "celltoolbar": "Slideshow",
  "kernelspec": {
   "display_name": "Python 3 (ipykernel)",
   "language": "python",
   "name": "python3"
  },
  "language_info": {
   "codemirror_mode": {
    "name": "ipython",
    "version": 3
   },
   "file_extension": ".py",
   "mimetype": "text/x-python",
   "name": "python",
   "nbconvert_exporter": "python",
   "pygments_lexer": "ipython3",
   "version": "3.11.5"
  }
 },
 "nbformat": 4,
 "nbformat_minor": 5
}
